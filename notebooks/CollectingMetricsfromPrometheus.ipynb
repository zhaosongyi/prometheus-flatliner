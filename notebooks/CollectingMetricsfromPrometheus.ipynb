{
 "cells": [
  {
   "cell_type": "markdown",
   "metadata": {},
   "source": [
    "##  Importing all the libraries"
   ]
  },
  {
   "cell_type": "code",
   "execution_count": 1,
   "metadata": {},
   "outputs": [
    {
     "name": "stdout",
     "output_type": "stream",
     "text": [
      "Requirement already satisfied: prometheus-api-client in /home/hemaveeradhi/.local/lib/python3.7/site-packages (0.0.1)\n",
      "Requirement already satisfied: retrying in /home/hemaveeradhi/.local/lib/python3.7/site-packages (from prometheus-api-client) (1.3.3)\n",
      "Requirement already satisfied: dateparser in /home/hemaveeradhi/.local/lib/python3.7/site-packages (from prometheus-api-client) (0.7.1)\n",
      "Requirement already satisfied: requests in /usr/lib/python3.7/site-packages (from prometheus-api-client) (2.20.0)\n",
      "Requirement already satisfied: six>=1.7.0 in /home/hemaveeradhi/.local/lib/python3.7/site-packages (from retrying->prometheus-api-client) (1.12.0)\n",
      "Requirement already satisfied: pytz in /usr/lib/python3.7/site-packages (from dateparser->prometheus-api-client) (2018.5)\n",
      "Requirement already satisfied: regex in /home/hemaveeradhi/.local/lib/python3.7/site-packages (from dateparser->prometheus-api-client) (2019.3.12)\n",
      "Requirement already satisfied: python-dateutil in /usr/lib/python3.7/site-packages (from dateparser->prometheus-api-client) (2.7.5)\n",
      "Requirement already satisfied: tzlocal in /home/hemaveeradhi/.local/lib/python3.7/site-packages (from dateparser->prometheus-api-client) (1.5.1)\n",
      "Requirement already satisfied: chardet<3.1.0,>=3.0.2 in /usr/lib/python3.7/site-packages (from requests->prometheus-api-client) (3.0.4)\n",
      "Requirement already satisfied: idna<2.8,>=2.5 in /usr/lib/python3.7/site-packages (from requests->prometheus-api-client) (2.7)\n",
      "Requirement already satisfied: urllib3<1.25,>=1.21.1 in /usr/lib/python3.7/site-packages (from requests->prometheus-api-client) (1.24.1)\n"
     ]
    }
   ],
   "source": [
    "import os\n",
    "%load_ext dotenv\n",
    "%dotenv\n",
    "!pip3 install prometheus-api-client"
   ]
  },
  {
   "cell_type": "markdown",
   "metadata": {},
   "source": [
    "## Setting up the connection to scrape metrics from the Thanos instance\n",
    "We need to obtain a session token in order to scrape the required Thanos instance on OpenShift. You can obtain this token value (after having logged in to OpenShift) by executing the following command in your local terminal: $oc whoami -t and setting it as an env variable."
   ]
  },
  {
   "cell_type": "markdown",
   "metadata": {},
   "source": [
    "## Collecting the metrics \n"
   ]
  },
  {
   "cell_type": "code",
   "execution_count": 2,
   "metadata": {},
   "outputs": [],
   "source": [
    "import prometheus_api_client as prom_api"
   ]
  },
  {
   "cell_type": "code",
   "execution_count": 3,
   "metadata": {},
   "outputs": [],
   "source": [
    "url = os.environ.get(\"FLT_PROM_URL\")\n",
    "token = os.environ.get(\"FLT_PROM_ACCESS_TOKEN\")"
   ]
  },
  {
   "cell_type": "code",
   "execution_count": 4,
   "metadata": {},
   "outputs": [],
   "source": [
    "prom = prom_api.prometheus_connect.PrometheusConnect(url=url, headers={\"Authorization\": \"bearer {}\".format(token)}, disable_ssl=True)"
   ]
  },
  {
   "cell_type": "code",
   "execution_count": 5,
   "metadata": {},
   "outputs": [
    {
     "name": "stderr",
     "output_type": "stream",
     "text": [
      "/usr/lib/python3.7/site-packages/urllib3/connectionpool.py:847: InsecureRequestWarning: Unverified HTTPS request is being made. Adding certificate verification is strongly advised. See: https://urllib3.readthedocs.io/en/latest/advanced-usage.html#ssl-warnings\n",
      "  InsecureRequestWarning)\n"
     ]
    }
   ],
   "source": [
    "all_metrics = prom.all_metrics()"
   ]
  },
  {
   "cell_type": "code",
   "execution_count": 6,
   "metadata": {},
   "outputs": [
    {
     "data": {
      "text/plain": [
       "['alerts',\n",
       " 'cluster:capacity_cpu_cores:sum',\n",
       " 'cluster:capacity_memory_bytes:sum',\n",
       " 'cluster:cpu_usage_cores:sum',\n",
       " 'cluster:memory_usage_bytes:sum',\n",
       " 'cluster:node_instance_type_count:sum',\n",
       " 'cluster_operator_conditions',\n",
       " 'cluster_operator_up',\n",
       " 'cluster_version',\n",
       " 'cluster_version_available_updates',\n",
       " 'cluster_version_payload',\n",
       " 'code:apiserver_request_count:rate:sum',\n",
       " 'etcd_object_counts',\n",
       " 'kube_pod_status_ready:etcd:sum',\n",
       " 'kube_pod_status_ready:image_registry:sum',\n",
       " 'machine_cpu_cores',\n",
       " 'machine_memory_bytes',\n",
       " 'openshift:cpu_usage_cores:sum',\n",
       " 'openshift:memory_usage_bytes:sum',\n",
       " 'scrape_duration_seconds',\n",
       " 'scrape_samples_post_metric_relabeling',\n",
       " 'scrape_samples_scraped',\n",
       " 'up']"
      ]
     },
     "execution_count": 6,
     "metadata": {},
     "output_type": "execute_result"
    }
   ],
   "source": [
    "all_metrics"
   ]
  },
  {
   "cell_type": "code",
   "execution_count": 7,
   "metadata": {},
   "outputs": [
    {
     "name": "stdout",
     "output_type": "stream",
     "text": [
      "Number of metrics present: 23\n"
     ]
    }
   ],
   "source": [
    "print(\"Number of metrics present:\", len(all_metrics))"
   ]
  },
  {
   "cell_type": "markdown",
   "metadata": {},
   "source": [
    "We can fetch the data for a specific metric name based on a particular time frame, duration size and label configurations"
   ]
  },
  {
   "cell_type": "code",
   "execution_count": 8,
   "metadata": {},
   "outputs": [
    {
     "name": "stderr",
     "output_type": "stream",
     "text": [
      "/usr/lib/python3.7/site-packages/urllib3/connectionpool.py:847: InsecureRequestWarning: Unverified HTTPS request is being made. Adding certificate verification is strongly advised. See: https://urllib3.readthedocs.io/en/latest/advanced-usage.html#ssl-warnings\n",
      "  InsecureRequestWarning)\n",
      "/usr/lib/python3.7/site-packages/urllib3/connectionpool.py:847: InsecureRequestWarning: Unverified HTTPS request is being made. Adding certificate verification is strongly advised. See: https://urllib3.readthedocs.io/en/latest/advanced-usage.html#ssl-warnings\n",
      "  InsecureRequestWarning)\n"
     ]
    }
   ],
   "source": [
    "metric_data = prom.get_metric_range_data(metric_name='cluster_version', start_time='10m', chunk_size='5m')"
   ]
  },
  {
   "cell_type": "code",
   "execution_count": 9,
   "metadata": {},
   "outputs": [
    {
     "data": {
      "text/plain": [
       "1799"
      ]
     },
     "execution_count": 9,
     "metadata": {},
     "output_type": "execute_result"
    }
   ],
   "source": [
    "len(metric_data)"
   ]
  },
  {
   "cell_type": "code",
   "execution_count": 10,
   "metadata": {},
   "outputs": [
    {
     "data": {
      "text/plain": [
       "dict_keys(['metric', 'values'])"
      ]
     },
     "execution_count": 10,
     "metadata": {},
     "output_type": "execute_result"
    }
   ],
   "source": [
    "#Exploring one among all the metrics collected\n",
    "metric_data[0].keys()"
   ]
  },
  {
   "cell_type": "code",
   "execution_count": 11,
   "metadata": {},
   "outputs": [],
   "source": [
    "metadata = metric_data[0].get(\"metric\")"
   ]
  },
  {
   "cell_type": "code",
   "execution_count": 12,
   "metadata": {},
   "outputs": [
    {
     "data": {
      "text/plain": [
       "{'__name__': 'cluster_version',\n",
       " '_id': '0073d69c-268c-4ec8-a01f-49afbac32d7b',\n",
       " 'endpoint': 'metrics',\n",
       " 'image': 'quay.io/openshift-release-dev/ocp-release@sha256:29a057c89cc5cf9c7853c52b815ba95bd66d1a66cb274d1991ca4951f5920cb2',\n",
       " 'instance': '10.0.131.57:9099',\n",
       " 'job': 'cluster-version-operator',\n",
       " 'monitor': 'prometheus',\n",
       " 'namespace': 'openshift-cluster-version',\n",
       " 'pod': 'cluster-version-operator-66f586d9d-7bv6s',\n",
       " 'prometheus': 'openshift-monitoring/k8s',\n",
       " 'prometheus_replica': 'prometheus-telemeter-1',\n",
       " 'replica': '$(HOSTNAME)',\n",
       " 'service': 'cluster-version-operator',\n",
       " 'type': 'cluster',\n",
       " 'version': '4.0.0-0.9'}"
      ]
     },
     "execution_count": 12,
     "metadata": {},
     "output_type": "execute_result"
    }
   ],
   "source": [
    "metadata"
   ]
  },
  {
   "cell_type": "code",
   "execution_count": 13,
   "metadata": {},
   "outputs": [
    {
     "name": "stdout",
     "output_type": "stream",
     "text": [
      "Number of labels identified: 15\n"
     ]
    }
   ],
   "source": [
    "#Obtaining the labels of the metric\n",
    "labels = list(metadata.keys())\n",
    "print(\"Number of labels identified:\", len(labels))"
   ]
  },
  {
   "cell_type": "code",
   "execution_count": 14,
   "metadata": {},
   "outputs": [
    {
     "data": {
      "text/plain": [
       "['__name__',\n",
       " '_id',\n",
       " 'endpoint',\n",
       " 'image',\n",
       " 'instance',\n",
       " 'job',\n",
       " 'monitor',\n",
       " 'namespace',\n",
       " 'pod',\n",
       " 'prometheus',\n",
       " 'prometheus_replica',\n",
       " 'replica',\n",
       " 'service',\n",
       " 'type',\n",
       " 'version']"
      ]
     },
     "execution_count": 14,
     "metadata": {},
     "output_type": "execute_result"
    }
   ],
   "source": [
    "labels"
   ]
  },
  {
   "cell_type": "code",
   "execution_count": 15,
   "metadata": {},
   "outputs": [
    {
     "data": {
      "text/plain": [
       "[[1555613915.201, '1555586845']]"
      ]
     },
     "execution_count": 15,
     "metadata": {},
     "output_type": "execute_result"
    }
   ],
   "source": [
    "#Obtaining the metric values\n",
    "metric_values = metric_data[0].get('values')\n",
    "metric_values"
   ]
  }
 ],
 "metadata": {
  "kernelspec": {
   "display_name": "Python 3",
   "language": "python",
   "name": "python3"
  },
  "language_info": {
   "codemirror_mode": {
    "name": "ipython",
    "version": 3
   },
   "file_extension": ".py",
   "mimetype": "text/x-python",
   "name": "python",
   "nbconvert_exporter": "python",
   "pygments_lexer": "ipython3",
   "version": "3.7.3"
  }
 },
 "nbformat": 4,
 "nbformat_minor": 2
}
